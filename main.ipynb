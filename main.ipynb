{
 "cells": [
  {
   "cell_type": "code",
   "execution_count": 1,
   "metadata": {},
   "outputs": [
    {
     "data": {
      "application/vnd.jupyter.widget-view+json": {
       "model_id": "c15ee17e6e1d4a3eac8a47c27addc0e9",
       "version_major": 2,
       "version_minor": 0
      },
      "text/plain": [
       "  0%|          | 0/1 [00:00<?, ?it/s]"
      ]
     },
     "metadata": {},
     "output_type": "display_data"
    }
   ],
   "source": [
    "import os\n",
    "from docx2pdf import convert\n",
    "import datetime\n",
    "import schedule\n",
    "import time\n",
    "source ='C:/ePDM_Elcam/test/FE_Test'\n",
    "destintion='C:/Users/matan.s/Desktop/python/add-in_clone'\n",
    "files=os.listdir(destintion)\n",
    "for file in files:\n",
    "    if file.endswith('.docx'):\n",
    "        convert(os.path.join(destintion,file),os.path.join(destintion,file[:-5]+'.pdf'))\n",
    "\n",
    "    \n"
   ]
  },
  {
   "cell_type": "code",
   "execution_count": null,
   "metadata": {},
   "outputs": [],
   "source": [
    "#create a function that will look in the folder and check for files that was created in the last minute\n",
    "#and convert them to pdf\n",
    "#the function will run every 5 minutes\n",
    "def convert_to_pdf():\n",
    "    #get the current time\n",
    "    now=datetime.datetime.now()\n",
    "    #get the time 5 minutes ago\n",
    "    minutes_ago=now-datetime.timedelta(minutes=1)\n",
    "    #get the list of files in the folder\n",
    "    files=os.listdir(destintion)\n",
    "    #loop over the files\n",
    "    for file in files:\n",
    "        #check if the file was created in the last 5 minutes\n",
    "        if file.endswith('.docx') and os.path.getmtime(os.path.join(destintion,file))>minutes_ago.timestamp():\n",
    "            #convert the file to pdf\n",
    "            convert(os.path.join(destintion,file),os.path.join(destintion,file[:-5]+'.pdf'))\n",
    "            #delete the docx file\n",
    "            os.remove(os.path.join(destintion,file))\n",
    "            #print the file name\n",
    "            print(file)\n",
    "#run the function every 5 minutes\n",
    "schedule.every(5).minutes.do(convert_to_pdf)\n",
    "while True:\n",
    "    schedule.run_pending()\n",
    "    time.sleep(1)\n",
    "    "
   ]
  },
  {
   "cell_type": "code",
   "execution_count": 14,
   "metadata": {},
   "outputs": [
    {
     "name": "stdout",
     "output_type": "stream",
     "text": [
      ".git Thu Jan 12 08:46:26 2023\n",
      ".ipynb_checkpoints Tue Jan 10 16:32:04 2023\n",
      "auto-py-to-exe-master Wed Jan  4 07:02:33 2023\n",
      "main.ipynb Thu Jan 19 11:42:41 2023\n",
      "New Microsoft Word Document.docx Thu Jan 19 12:32:25 2023\n",
      "prop_read.py Thu Jan 12 10:49:16 2023\n",
      "script.exe Tue Jan 10 21:23:07 2023\n",
      "script.py Thu Jan 12 08:37:49 2023\n",
      "test.txt Wed Jan 18 20:54:34 2023\n"
     ]
    }
   ],
   "source": [
    "#print the creation timestamp of all the files in the destination folder\n",
    "files=os.listdir(destintion)\n",
    "for file in files:\n",
    "    t=time.ctime(os.path.getmtime(os.path.join(destintion,file)))\n",
    "    print(file,t)\n",
    "    \n"
   ]
  }
 ],
 "metadata": {
  "kernelspec": {
   "display_name": "Python 3 (ipykernel)",
   "language": "python",
   "name": "python3"
  },
  "language_info": {
   "codemirror_mode": {
    "name": "ipython",
    "version": 3
   },
   "file_extension": ".py",
   "mimetype": "text/x-python",
   "name": "python",
   "nbconvert_exporter": "python",
   "pygments_lexer": "ipython3",
   "version": "3.9.13"
  },
  "vscode": {
   "interpreter": {
    "hash": "3f5489b7472e0db5a0aca474269aa1efb9aed33b7cc21a8c650b51c14ef83b94"
   }
  }
 },
 "nbformat": 4,
 "nbformat_minor": 4
}
